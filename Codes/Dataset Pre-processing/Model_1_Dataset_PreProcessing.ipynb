{
  "nbformat": 4,
  "nbformat_minor": 0,
  "metadata": {
    "colab": {
      "provenance": [],
      "gpuType": "T4"
    },
    "kernelspec": {
      "name": "python3",
      "display_name": "Python 3"
    },
    "language_info": {
      "name": "python"
    },
    "accelerator": "GPU"
  },
  "cells": [
    {
      "cell_type": "code",
      "execution_count": null,
      "metadata": {
        "colab": {
          "base_uri": "https://localhost:8080/"
        },
        "id": "0qrHENGyNoiF",
        "outputId": "cfe6e380-1b2a-45a8-ce6c-d1d0efb78411"
      },
      "outputs": [
        {
          "output_type": "stream",
          "name": "stdout",
          "text": [
            "Mounted at /content/gdrive\n",
            "0   17\t25  33\t8\n",
            "1   18\t26  34\t9\n",
            "10  19\t27  35\ttrain_img_edgeshape_removedundetected.npy\n",
            "11  2\t28  36\ttrain_img_edgeshape_removedundetected_unaugment.npy\n",
            "12  20\t29  37\ttrain_img_poseblack_removedundetected.npy\n",
            "13  21\t3   4\ttrain_label_edgeshape_removedundetected.npy\n",
            "14  22\t30  5\ttrain_label_edgeshape_removedundetected_unaugment.npy\n",
            "15  23\t31  6\ttrain_label_poseblack_removedundetected.npy\n",
            "16  24\t32  7\n"
          ]
        }
      ],
      "source": [
        "from google.colab import drive\n",
        "drive.mount('/content/gdrive',force_remount=True)\n",
        "!ls '/content/gdrive/MyDrive/Datasets/Dataset_bsl/RESIZED_DATASET'"
      ]
    },
    {
      "cell_type": "code",
      "source": [
        "import os\n",
        "import pathlib\n",
        "import glob\n",
        "import cv2\n",
        "from google.colab.patches import cv2_imshow\n",
        "import numpy as np"
      ],
      "metadata": {
        "id": "fdbuJrliN2SQ"
      },
      "execution_count": null,
      "outputs": []
    },
    {
      "cell_type": "code",
      "source": [
        "class_list=['0', '1', '2', '3', '4', '5', '6', '7', '8', '9', '10', '11', '12', '13', '14', '15', '16', '17', '18', '19', '20', '21', '22', '23', '24', '25', '26', '27', '28', '29', '30', '31', '32', '33', '34', '35', '36', '37']\n",
        "\n",
        "\n",
        "dataset_path = '/content/gdrive/MyDrive/Datasets/Dataset_bsl/RESIZED_DATASET'\n",
        "image_paths = []\n",
        "labels = []\n",
        "\n",
        "for i in class_list:\n",
        "    for folder_name in os.listdir(dataset_path):\n",
        "        if folder_name == i:\n",
        "            folder_path = os.path.join(dataset_path, folder_name)\n",
        "            image_paths.append(folder_path)\n",
        "\n",
        "for i in image_paths:\n",
        "    print(i.rsplit('/', 1)[-1])\n",
        "\n",
        "print(image_paths)"
      ],
      "metadata": {
        "colab": {
          "base_uri": "https://localhost:8080/"
        },
        "id": "Cb7G1w5gOQmQ",
        "outputId": "55d83eec-4482-4077-abd4-cde2013b78de"
      },
      "execution_count": null,
      "outputs": [
        {
          "output_type": "stream",
          "name": "stdout",
          "text": [
            "0\n",
            "1\n",
            "2\n",
            "3\n",
            "4\n",
            "5\n",
            "6\n",
            "7\n",
            "8\n",
            "9\n",
            "10\n",
            "11\n",
            "12\n",
            "13\n",
            "14\n",
            "15\n",
            "16\n",
            "17\n",
            "18\n",
            "19\n",
            "20\n",
            "21\n",
            "22\n",
            "23\n",
            "24\n",
            "25\n",
            "26\n",
            "27\n",
            "28\n",
            "29\n",
            "30\n",
            "31\n",
            "32\n",
            "33\n",
            "34\n",
            "35\n",
            "36\n",
            "37\n",
            "['/content/gdrive/MyDrive/Datasets/Dataset_bsl/RESIZED_DATASET/0', '/content/gdrive/MyDrive/Datasets/Dataset_bsl/RESIZED_DATASET/1', '/content/gdrive/MyDrive/Datasets/Dataset_bsl/RESIZED_DATASET/2', '/content/gdrive/MyDrive/Datasets/Dataset_bsl/RESIZED_DATASET/3', '/content/gdrive/MyDrive/Datasets/Dataset_bsl/RESIZED_DATASET/4', '/content/gdrive/MyDrive/Datasets/Dataset_bsl/RESIZED_DATASET/5', '/content/gdrive/MyDrive/Datasets/Dataset_bsl/RESIZED_DATASET/6', '/content/gdrive/MyDrive/Datasets/Dataset_bsl/RESIZED_DATASET/7', '/content/gdrive/MyDrive/Datasets/Dataset_bsl/RESIZED_DATASET/8', '/content/gdrive/MyDrive/Datasets/Dataset_bsl/RESIZED_DATASET/9', '/content/gdrive/MyDrive/Datasets/Dataset_bsl/RESIZED_DATASET/10', '/content/gdrive/MyDrive/Datasets/Dataset_bsl/RESIZED_DATASET/11', '/content/gdrive/MyDrive/Datasets/Dataset_bsl/RESIZED_DATASET/12', '/content/gdrive/MyDrive/Datasets/Dataset_bsl/RESIZED_DATASET/13', '/content/gdrive/MyDrive/Datasets/Dataset_bsl/RESIZED_DATASET/14', '/content/gdrive/MyDrive/Datasets/Dataset_bsl/RESIZED_DATASET/15', '/content/gdrive/MyDrive/Datasets/Dataset_bsl/RESIZED_DATASET/16', '/content/gdrive/MyDrive/Datasets/Dataset_bsl/RESIZED_DATASET/17', '/content/gdrive/MyDrive/Datasets/Dataset_bsl/RESIZED_DATASET/18', '/content/gdrive/MyDrive/Datasets/Dataset_bsl/RESIZED_DATASET/19', '/content/gdrive/MyDrive/Datasets/Dataset_bsl/RESIZED_DATASET/20', '/content/gdrive/MyDrive/Datasets/Dataset_bsl/RESIZED_DATASET/21', '/content/gdrive/MyDrive/Datasets/Dataset_bsl/RESIZED_DATASET/22', '/content/gdrive/MyDrive/Datasets/Dataset_bsl/RESIZED_DATASET/23', '/content/gdrive/MyDrive/Datasets/Dataset_bsl/RESIZED_DATASET/24', '/content/gdrive/MyDrive/Datasets/Dataset_bsl/RESIZED_DATASET/25', '/content/gdrive/MyDrive/Datasets/Dataset_bsl/RESIZED_DATASET/26', '/content/gdrive/MyDrive/Datasets/Dataset_bsl/RESIZED_DATASET/27', '/content/gdrive/MyDrive/Datasets/Dataset_bsl/RESIZED_DATASET/28', '/content/gdrive/MyDrive/Datasets/Dataset_bsl/RESIZED_DATASET/29', '/content/gdrive/MyDrive/Datasets/Dataset_bsl/RESIZED_DATASET/30', '/content/gdrive/MyDrive/Datasets/Dataset_bsl/RESIZED_DATASET/31', '/content/gdrive/MyDrive/Datasets/Dataset_bsl/RESIZED_DATASET/32', '/content/gdrive/MyDrive/Datasets/Dataset_bsl/RESIZED_DATASET/33', '/content/gdrive/MyDrive/Datasets/Dataset_bsl/RESIZED_DATASET/34', '/content/gdrive/MyDrive/Datasets/Dataset_bsl/RESIZED_DATASET/35', '/content/gdrive/MyDrive/Datasets/Dataset_bsl/RESIZED_DATASET/36', '/content/gdrive/MyDrive/Datasets/Dataset_bsl/RESIZED_DATASET/37']\n"
          ]
        }
      ]
    },
    {
      "cell_type": "markdown",
      "source": [
        "## Train maker"
      ],
      "metadata": {
        "id": "brO3kZF9O6LI"
      }
    },
    {
      "cell_type": "code",
      "source": [
        "dataset_path = '/content/gdrive/MyDrive/Datasets/Dataset_bsl/RESIZED_DATASET'"
      ],
      "metadata": {
        "id": "clhZf3XbO8JA"
      },
      "execution_count": null,
      "outputs": []
    },
    {
      "cell_type": "code",
      "source": [
        "train_images = []\n",
        "train_labels = []\n",
        "print(os.listdir(dataset_path))\n",
        "# Loop through the directories in the dataset path\n",
        "for class_name in os.listdir(dataset_path):\n",
        "    # If the directory name is not in class_list, skip it\n",
        "    if class_name not in class_list:\n",
        "        continue\n",
        "    class_path = os.path.join(dataset_path, class_name)\n",
        "    # Loop through the images in the class directory\n",
        "    for image_name in os.listdir(class_path):\n",
        "        image_path = os.path.join(class_path, image_name)\n",
        "        # Load the image and append it to the images list\n",
        "        image = cv2.imread(image_path)\n",
        "        image = cv2.resize(image, (64,64), interpolation = cv2.INTER_AREA)\n",
        "        image = image.astype('float32')\n",
        "\n",
        "        min_val = np.min(image)\n",
        "        max_val = np.max(image)\n",
        "        image = (image - min_val) / (max_val - min_val)\n",
        "\n",
        "        train_images.append(image)\n",
        "        # Append the label to the labels list\n",
        "        label = int(class_name)\n",
        "        train_labels.append(label)\n",
        "# Convert the images and labels to NumPy arrays\n",
        "train_images = np.array(train_images)\n",
        "train_labels = np.array(train_labels)\n",
        "\n",
        "# Print the shapes of the arrays\n",
        "print(train_images.shape)\n",
        "print(train_labels.shape)"
      ],
      "metadata": {
        "colab": {
          "base_uri": "https://localhost:8080/"
        },
        "id": "CvBtHretPDMQ",
        "outputId": "d6359e76-719f-4ebf-930a-726728fe7511"
      },
      "execution_count": null,
      "outputs": [
        {
          "output_type": "stream",
          "name": "stdout",
          "text": [
            "['9', '6', '8', '7', '5', '4', '30', '34', '36', '31', '3', '37', '32', '35', '33', '29', '25', '22', '26', '21', '24', '23', '27', '20', '28', '2', '15', '12', '16', '19', '14', '13', '11', '17', '18', '0', '10', '1', 'train_label_poseblack_removedundetected.npy', 'train_img_poseblack_removedundetected.npy', 'train_img_edgeshape_removedundetected_unaugment.npy', 'train_label_edgeshape_removedundetected_unaugment.npy', 'train_img_edgeshape_removedundetected.npy', 'train_label_edgeshape_removedundetected.npy']\n",
            "(11060, 64, 64, 3)\n",
            "(11060,)\n"
          ]
        }
      ]
    },
    {
      "cell_type": "code",
      "source": [
        "from keras.preprocessing.image import ImageDataGenerator\n",
        "\n",
        "# Set the batch size\n",
        "batch_size = 32\n",
        "\n",
        "# Define the data generator for image augmentation\n",
        "datagen = ImageDataGenerator(\n",
        "    rescale=1./255,\n",
        "    shear_range=0.2,\n",
        "    zoom_range=0.2,\n",
        "    horizontal_flip=True)\n",
        "\n",
        "# Use the flow_from_directory method to generate batches of augmented images\n",
        "train_generator = datagen.flow_from_directory(\n",
        "    dataset_path,\n",
        "    target_size=(224, 224),\n",
        "    batch_size=batch_size,\n",
        "    class_mode='categorical',\n",
        "    classes=class_list,\n",
        "    shuffle=True)\n",
        "\n",
        "# Print the number of classes and the class indices\n",
        "num_classes = train_generator.num_classes\n",
        "class_indices = train_generator.class_indices\n",
        "print('Number of classes:', num_classes)\n",
        "print('Class indices:', class_indices)"
      ],
      "metadata": {
        "colab": {
          "base_uri": "https://localhost:8080/"
        },
        "id": "vT6nQY1CQTRI",
        "outputId": "547c8c3c-4b3d-4a70-b651-e5e1b6264791"
      },
      "execution_count": null,
      "outputs": [
        {
          "output_type": "stream",
          "name": "stdout",
          "text": [
            "Found 11060 images belonging to 38 classes.\n",
            "Number of classes: 38\n",
            "Class indices: {'0': 0, '1': 1, '2': 2, '3': 3, '4': 4, '5': 5, '6': 6, '7': 7, '8': 8, '9': 9, '10': 10, '11': 11, '12': 12, '13': 13, '14': 14, '15': 15, '16': 16, '17': 17, '18': 18, '19': 19, '20': 20, '21': 21, '22': 22, '23': 23, '24': 24, '25': 25, '26': 26, '27': 27, '28': 28, '29': 29, '30': 30, '31': 31, '32': 32, '33': 33, '34': 34, '35': 35, '36': 36, '37': 37}\n"
          ]
        }
      ]
    },
    {
      "cell_type": "code",
      "source": [
        "cv2_imshow(train_images[299]*255)\n",
        "\n",
        "print(train_images.shape)\n",
        "print(train_labels.shape)"
      ],
      "metadata": {
        "colab": {
          "base_uri": "https://localhost:8080/",
          "height": 116
        },
        "id": "2x7QAWqgQ4Wh",
        "outputId": "552d0b26-ff45-4006-e32b-51c6fd6c850c"
      },
      "execution_count": null,
      "outputs": [
        {
          "output_type": "display_data",
          "data": {
            "text/plain": [
              "<PIL.Image.Image image mode=RGB size=64x64 at 0x7F6431445FF0>"
            ],
            "image/png": "[encoded data removed]"
          },
          "metadata": {}
        },
        {
          "output_type": "stream",
          "name": "stdout",
          "text": [
            "(11060, 64, 64, 3)\n",
            "(11060,)\n"
          ]
        }
      ]
    },
    {
      "cell_type": "code",
      "source": [
        "# Create an image data generator object\n",
        "from tensorflow.keras.preprocessing.image import ImageDataGenerator\n",
        "num_new_images = 11061*6\n",
        "\n",
        "datagen = ImageDataGenerator(rotation_range=10, width_shift_range=0.1,\n",
        "                             height_shift_range=0.1, shear_range=0.1,\n",
        "                             zoom_range=0.1, horizontal_flip=True,\n",
        "                             fill_mode='nearest')\n",
        "\n",
        "# Generate new images and labels\n",
        "new_images = []\n",
        "new_labels = []\n",
        "for i in range(num_new_images):\n",
        "    batch = datagen.flow(train_images, train_labels, batch_size=1)\n",
        "    new_image, new_label = batch.next()\n",
        "    new_images.append(new_image[0])\n",
        "    new_labels.append(new_label[0])\n",
        "\n",
        "# Convert the images and labels to NumPy arrays\n",
        "new_images = np.array(new_images)\n",
        "new_labels = np.array(new_labels)\n",
        "\n",
        "# Concatenate the new images and labels with the original ones\n",
        "train_images = np.concatenate([train_images, new_images])\n",
        "train_labels = np.concatenate([train_labels, new_labels])"
      ],
      "metadata": {
        "id": "qLr6JkOxQ5sQ"
      },
      "execution_count": null,
      "outputs": []
    },
    {
      "cell_type": "code",
      "source": [
        "print(train_images.shape)\n",
        "print(train_labels.shape)"
      ],
      "metadata": {
        "colab": {
          "base_uri": "https://localhost:8080/"
        },
        "id": "x5Lm6pDDRsiK",
        "outputId": "249db7a9-c3b9-464d-9b96-5ee43f327382"
      },
      "execution_count": null,
      "outputs": [
        {
          "output_type": "stream",
          "name": "stdout",
          "text": [
            "(77426, 64, 64, 3)\n",
            "(77426,)\n"
          ]
        }
      ]
    },
    {
      "cell_type": "code",
      "source": [
        "np.save('/content/gdrive/MyDrive/Datasets/Dataset_bsl/RESIZED_DATASET/train_img_normalized.npy', train_images)\n",
        "np.save('/content/gdrive/MyDrive/Datasets/Dataset_bsl/RESIZED_DATASET/train_label_normalized.npy', train_labels)"
      ],
      "metadata": {
        "id": "AUv_JmudRuP5"
      },
      "execution_count": null,
      "outputs": []
    },
    {
      "cell_type": "code",
      "source": [
        "del train_images\n",
        "del train_labels"
      ],
      "metadata": {
        "id": "2JLbP5D5edr7"
      },
      "execution_count": null,
      "outputs": []
    },
    {
      "cell_type": "code",
      "source": [
        "del new_images\n",
        "del new_labels"
      ],
      "metadata": {
        "id": "XXrcHBgoekCz"
      },
      "execution_count": null,
      "outputs": []
    },
    {
      "cell_type": "markdown",
      "source": [
        "# Test maker"
      ],
      "metadata": {
        "id": "UIr1dYLoeDhW"
      }
    },
    {
      "cell_type": "code",
      "source": [
        "dataset_path_test = '/content/gdrive/MyDrive/Datasets/Dataset_bsl/RESIZED_TESTING_DATA'"
      ],
      "metadata": {
        "id": "mPjuvO3keGoN"
      },
      "execution_count": null,
      "outputs": []
    },
    {
      "cell_type": "code",
      "source": [
        "test_images = []\n",
        "test_labels = []\n",
        "# Loop through the directories in the dataset path\n",
        "for class_name in os.listdir(dataset_path_test):\n",
        "    # If the directory name is not in class_list, skip it\n",
        "    if class_name not in class_list:\n",
        "        continue\n",
        "    class_path = os.path.join(dataset_path_test, class_name)\n",
        "    # Loop through the images in the class directory\n",
        "    for image_name in os.listdir(class_path):\n",
        "        image_path = os.path.join(class_path, image_name)\n",
        "        # Load the image and append it to the images list\n",
        "        image = cv2.imread(image_path)\n",
        "        image = cv2.resize(image, (64,64), interpolation = cv2.INTER_AREA)\n",
        "        image = image.astype('float32')\n",
        "\n",
        "        min_val = np.min(image)\n",
        "        max_val = np.max(image)\n",
        "        image = (image - min_val) / (max_val - min_val)\n",
        "\n",
        "        # image = image/255.0\n",
        "        test_images.append(image)\n",
        "        # Append the label to the labels list\n",
        "        label = int(class_name)\n",
        "        test_labels.append(label)\n",
        "\n",
        "\n",
        "# Convert the images and labels to NumPy arrays\n",
        "test_images = np.array(test_images)\n",
        "test_labels = np.array(test_labels)\n",
        "\n",
        "# Print the shapes of the arrays\n",
        "print(test_images.shape)\n",
        "print(test_labels.shape)"
      ],
      "metadata": {
        "colab": {
          "base_uri": "https://localhost:8080/"
        },
        "id": "4vTj5Y93eZar",
        "outputId": "57cfbedb-bf67-46e8-84d2-b8f2ee406e31"
      },
      "execution_count": null,
      "outputs": [
        {
          "output_type": "stream",
          "name": "stdout",
          "text": [
            "(1520, 64, 64, 3)\n",
            "(1520,)\n"
          ]
        }
      ]
    },
    {
      "cell_type": "code",
      "source": [
        "np.save('/content/gdrive/MyDrive/Datasets/Dataset_bsl/RESIZED_TESTING_DATA/test_img_normalized.npy', test_images)\n",
        "np.save('/content/gdrive/MyDrive/Datasets/Dataset_bsl/RESIZED_TESTING_DATA/test_label_normalized.npy', test_labels)"
      ],
      "metadata": {
        "id": "WRtBb2iZgJ7r"
      },
      "execution_count": null,
      "outputs": []
    }
  ]
}